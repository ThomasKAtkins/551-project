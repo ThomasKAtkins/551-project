{
 "cells": [
  {
   "cell_type": "markdown",
   "metadata": {},
   "source": [
    "Code by Jonas"
   ]
  },
  {
   "cell_type": "code",
   "execution_count": 4,
   "metadata": {},
   "outputs": [],
   "source": [
    "import numpy as np\n",
    "import pandas as pd\n",
    "from sklearn import metrics\n",
    "from sklearn.preprocessing import StandardScaler\n",
    "from sklearn.ensemble import RandomForestRegressor\n",
    "import random\n",
    "from sklearn.model_selection import train_test_split\n",
    "import matplotlib.pyplot as plt\n",
    "import os"
   ]
  },
  {
   "cell_type": "code",
   "execution_count": 5,
   "metadata": {},
   "outputs": [],
   "source": [
    "def RandomForest(X_train,y_train, X_test, y_test, trees):\n",
    "    seed = 42\n",
    "    rf_result = []\n",
    "    rf_results = {}\n",
    "    for n_estimator in trees:\n",
    "        rf_model = RandomForestRegressor(n_estimators=n_estimator, random_state=seed)\n",
    "        rf_model.fit(X_train, y_train)\n",
    "        rf_y_pred = rf_model.predict(X_test)\n",
    "        mse = metrics.mean_squared_error(y_test, rf_y_pred)\n",
    "        rf_result.append(mse)\n",
    "        rf_results[n_estimator] = mse\n",
    "        return pd.DataFrame(rf_results)"
   ]
  },
  {
   "cell_type": "code",
   "execution_count": 6,
   "metadata": {},
   "outputs": [],
   "source": [
    "#read in the data\n",
    "path_bindingAffinity = '/Users/jones/coding/Princeton_Homework/QCB455_Comp/project/551-project-main/data/binding_affinity/binding_info.csv'\n",
    "df_bindingAffinity = pd.read_csv(path_bindingAffinity)\n",
    "\n",
    "pathShannon = '/Users/jones/coding/Princeton_Homework/QCB455_Comp/project/551-project-main/data/entropy/manual/Shannon.csv'\n",
    "df_Shannon = pd.read_csv(pathShannon)\n",
    "pathAllel = '/Users/jones/coding/Princeton_Homework/QCB455_Comp/project/551-project-main/data/NetMHCpan/alleles.csv'\n",
    "df_allel = pd.read_csv(pathAllel)\n",
    "\n",
    "pathPeptide = '/Users/jones/coding/Princeton_Homework/QCB455_Comp/project/551-project-main/data/NetMHCpan/peptides.csv'\n",
    "df_peptide = pd.read_csv(pathPeptide)\n",
    "\n",
    "pathrank = '/Users/jones/coding/Princeton_Homework/QCB455_Comp/project/551-project-main/data/NetMHCpan/rank_EL_matrix.csv'\n",
    "df_rank = pd.read_csv(pathrank, header=None)\n",
    "df_rank.columns = df_allel['allele'].values\n",
    "\n",
    "df_rank.index = df_peptide['peptide'].values\n",
    "\n",
    "pathscore = '/Users/jones/coding/Princeton_Homework/QCB455_Comp/project/551-project-main/data/NetMHCpan/score_EL_matrix.csv'\n",
    "df_score = pd.read_csv(pathscore, header=None)\n",
    "df_score.columns = df_allel['allele'].values\n",
    "df_score.index = df_peptide['peptide'].values\n",
    "\n",
    "pathKl = '/Users/jones/coding/Princeton_Homework/QCB455_Comp/project/551-project-main/data/entropy/HIV_db/before_filtering/Entropy_One/entropy.csv'\n",
    "df_Kl = pd.read_csv(pathKl)\n",
    "\n",
    "pathKlFilt = '/Users/jones/coding/Princeton_Homework/QCB455_Comp/project/551-project-main/data/entropy/HIV_db/after_filtering/Entropy-One/entropy.csv'\n",
    "df_KlFilt = pd.read_csv(pathKlFilt)\n",
    "\n",
    "\n",
    "savePath = \"/Users/jones/coding/Princeton_Homework/QCB455_Comp/project/551-project-main/data/regression\""
   ]
  },
  {
   "cell_type": "code",
   "execution_count": 7,
   "metadata": {},
   "outputs": [],
   "source": [
    "#flip the rank matrix -> higher MHC binding between peptide and allele leads to higher score\n",
    "dfAnalysis = df_rank.copy()\n",
    "maxVal= dfAnalysis.max().max()\n",
    "minVal = dfAnalysis.min().min()\n",
    "dfAnalysisNew = maxVal + minVal - dfAnalysis\n"
   ]
  },
  {
   "cell_type": "code",
   "execution_count": 8,
   "metadata": {},
   "outputs": [],
   "source": [
    "#calculate the weighted sum \n",
    "#using maximum of the allele frequency\n",
    "allelScore = df_allel.iloc[:, -6:-1].max(axis=1)\n",
    "dfSum = dfAnalysisNew\n",
    "dfSum.columns = allelScore\n",
    "dfSum.index = df_peptide['freq']\n",
    "weighted_rowSum = (dfSum * dfSum.index.values.reshape(-1, 1) * dfSum.columns.values).sum(axis=1)\n",
    "\n",
    "weighted_rowSum.index = (df_peptide['pos'] +1)\n",
    "weighted_rowSum = weighted_rowSum.groupby(weighted_rowSum.index).sum()"
   ]
  },
  {
   "cell_type": "code",
   "execution_count": 9,
   "metadata": {},
   "outputs": [],
   "source": [
    "# rename KL divergence df to match column name in Shannon entropy df\n",
    "df_Kl.rename(columns={'Position': 'pos'}, inplace=True)"
   ]
  },
  {
   "cell_type": "code",
   "execution_count": 10,
   "metadata": {},
   "outputs": [],
   "source": [
    "#extract for each peptide the position with the highest KL divergence and highest binding affinity\n",
    "\n",
    "maxEntropyList = []\n",
    "maxBindingAffinityList = []\n",
    "\n",
    "\n",
    "\n",
    "for i in range(len(weighted_rowSum)):\n",
    "    start = i\n",
    "    end = start +9\n",
    "    df_help = df_Kl[df_Kl['pos'].isin(np.arange(start, end))]\n",
    "    maxEntValue = df_help['Entropy'].max()\n",
    "    bindingMax = df_bindingAffinity.loc[df_bindingAffinity['seq_position'].isin(df_help[df_help['Entropy'] == maxEntValue]['pos'].values)]['value'].max()\n",
    "    maxBindingAffinityList.append(bindingMax)\n",
    "    maxEntropyList.append(maxEntValue)\n",
    "\n",
    "dfMaxEntropy = pd.DataFrame({'pos': np.arange(1, 1266), 'EntropyMax':  maxEntropyList, 'maxBinding': maxBindingAffinityList})"
   ]
  },
  {
   "cell_type": "code",
   "execution_count": 11,
   "metadata": {},
   "outputs": [],
   "source": [
    "#Create X & Y variables for linear regression\n",
    "Y = dfMaxEntropy['EntropyMax'].values\n",
    "X = np.column_stack((weighted_rowSum.values, dfMaxEntropy['maxBinding'].values))"
   ]
  },
  {
   "cell_type": "code",
   "execution_count": 13,
   "metadata": {},
   "outputs": [],
   "source": [
    "#random forest simulations\n",
    "\n",
    "trees = np.arange(1, 1000, 1)\n",
    "\n",
    "seed = 42\n",
    "rf_result = []\n",
    "rf_results = {}\n",
    "for n_estimator in trees:\n",
    "    rf_model = RandomForestRegressor(n_estimators=n_estimator, random_state=seed)\n",
    "    rf_model.fit(X, Y)\n",
    "    rf_y_pred = rf_model.predict(X)\n",
    "    mse = metrics.mean_squared_error(Y, rf_y_pred)\n",
    "    rf_results[n_estimator] = mse"
   ]
  },
  {
   "cell_type": "code",
   "execution_count": 14,
   "metadata": {},
   "outputs": [],
   "source": [
    "# predict on number of estimators with the lowest test mean squared error\n",
    "\n",
    "min_key = min(rf_results, key=rf_results.get)\n",
    "n_estimator = min_key \n",
    "\n",
    "rf_model = RandomForestRegressor(n_estimators=n_estimator, random_state=seed)\n",
    "rf_model.fit(X, Y)\n",
    "rf_y_pred = rf_model.predict(X)"
   ]
  },
  {
   "cell_type": "code",
   "execution_count": 16,
   "metadata": {},
   "outputs": [
    {
     "data": {
      "text/plain": [
       "Text(0, 0.5, 'KL divergence predicted')"
      ]
     },
     "execution_count": 16,
     "metadata": {},
     "output_type": "execute_result"
    },
    {
     "data": {
      "image/png": "[encoded data removed]",
      "text/plain": [
       "<Figure size 432x288 with 1 Axes>"
      ]
     },
     "metadata": {
      "needs_background": "light"
     },
     "output_type": "display_data"
    }
   ],
   "source": [
    "plt.scatter(Y, rf_y_pred, color='blue', marker='o')\n",
    "plt.axis('equal')\n",
    "plt.xlabel('KL divergence calculated')\n",
    "plt.ylabel('KL divergence predicted')"
   ]
  },
  {
   "cell_type": "markdown",
   "metadata": {},
   "source": [
    "Train-test split"
   ]
  },
  {
   "cell_type": "code",
   "execution_count": 17,
   "metadata": {},
   "outputs": [],
   "source": [
    "X_train, X_test, y_train, y_test = train_test_split(X, Y, test_size=0.2, random_state=59)"
   ]
  },
  {
   "cell_type": "code",
   "execution_count": 18,
   "metadata": {},
   "outputs": [],
   "source": [
    "#random forest regression\n",
    "seed = 42\n",
    "trees = np.arange(1, 1000, 1)\n",
    "rf_result = []\n",
    "rf_results = {}\n",
    "for n_estimator in trees:\n",
    "    rf_model = RandomForestRegressor(n_estimators=n_estimator, random_state=seed)\n",
    "    rf_model.fit(X_train, y_train)\n",
    "    rf_y_pred = rf_model.predict(X_test)\n",
    "    mse = metrics.mean_squared_error(y_test, rf_y_pred)\n",
    "    rf_results[n_estimator] = mse"
   ]
  },
  {
   "cell_type": "code",
   "execution_count": 19,
   "metadata": {},
   "outputs": [
    {
     "data": {
      "text/plain": [
       "RandomForestRegressor(n_estimators=38, random_state=42)"
      ]
     },
     "execution_count": 19,
     "metadata": {},
     "output_type": "execute_result"
    }
   ],
   "source": [
    "# predict on number of estimators with the lowest test mean squared error\n",
    "min_key = min(rf_results, key=rf_results.get)\n",
    "n_estimator = min_key \n",
    "\n",
    "rf_model = RandomForestRegressor(n_estimators=n_estimator, random_state=seed)\n",
    "rf_model.fit(X_train, y_train)\n"
   ]
  },
  {
   "cell_type": "code",
   "execution_count": 20,
   "metadata": {},
   "outputs": [
    {
     "data": {
      "text/plain": [
       "Text(0, 0.5, 'KL divergence predicted')"
      ]
     },
     "execution_count": 20,
     "metadata": {},
     "output_type": "execute_result"
    },
    {
     "data": {
      "image/png": "[encoded data removed]",
      "text/plain": [
       "<Figure size 432x288 with 1 Axes>"
      ]
     },
     "metadata": {
      "needs_background": "light"
     },
     "output_type": "display_data"
    }
   ],
   "source": [
    "#prediction on full data\n",
    "rf_y_pred = rf_model.predict(X)\n",
    "plt.scatter(Y, rf_y_pred, color='blue', marker='o')\n",
    "plt.axis('equal')\n",
    "plt.xlabel('KL divergence calculated')\n",
    "plt.ylabel('KL divergence predicted')"
   ]
  },
  {
   "cell_type": "code",
   "execution_count": 21,
   "metadata": {},
   "outputs": [
    {
     "data": {
      "text/plain": [
       "Text(0, 0.5, 'KL divergence predicted')"
      ]
     },
     "execution_count": 21,
     "metadata": {},
     "output_type": "execute_result"
    },
    {
     "data": {
      "image/png": "[encoded data removed]",
      "text/plain": [
       "<Figure size 432x288 with 1 Axes>"
      ]
     },
     "metadata": {
      "needs_background": "light"
     },
     "output_type": "display_data"
    }
   ],
   "source": [
    "#accuracy training data\n",
    "rf_y_pred = rf_model.predict(X_train)\n",
    "plt.scatter(y_train, rf_y_pred, color='blue', marker='o')\n",
    "plt.axis('equal')\n",
    "plt.xlabel('KL divergence calculated')\n",
    "plt.ylabel('KL divergence predicted')"
   ]
  },
  {
   "cell_type": "code",
   "execution_count": 22,
   "metadata": {},
   "outputs": [
    {
     "data": {
      "text/plain": [
       "Text(0, 0.5, 'KL divergence predicted')"
      ]
     },
     "execution_count": 22,
     "metadata": {},
     "output_type": "execute_result"
    },
    {
     "data": {
      "image/png": "[encoded data removed]",
      "text/plain": [
       "<Figure size 432x288 with 1 Axes>"
      ]
     },
     "metadata": {
      "needs_background": "light"
     },
     "output_type": "display_data"
    }
   ],
   "source": [
    "#accuracy test data\n",
    "rf_y_pred = rf_model.predict(X_test)\n",
    "plt.scatter(y_test, rf_y_pred, color='blue', marker='o')\n",
    "plt.axis('equal')\n",
    "plt.xlabel('KL divergence calculated')\n",
    "plt.ylabel('KL divergence predicted')"
   ]
  },
  {
   "cell_type": "code",
   "execution_count": 23,
   "metadata": {},
   "outputs": [
    {
     "name": "stdout",
     "output_type": "stream",
     "text": [
      "Correlation Coefficient of test data between prediction and calculated KL divergence: -0.07320751676423089\n"
     ]
    }
   ],
   "source": [
    "#correlation coefficient between prediction and real value of test data\n",
    "correlation_coefficient = np.corrcoef(y_test, rf_y_pred)[0, 1]\n",
    "print(\"Correlation Coefficient of test data between prediction and calculated KL divergence:\", correlation_coefficient)"
   ]
  },
  {
   "cell_type": "markdown",
   "metadata": {},
   "source": [
    "Shannon entropy"
   ]
  },
  {
   "cell_type": "code",
   "execution_count": 24,
   "metadata": {},
   "outputs": [],
   "source": [
    "dfSum = dfAnalysisNew\n",
    "dfSum.columns = allelScore\n",
    "dfSum = dfAnalysisNew\n",
    "dfSum.columns = allelScore\n",
    "dfSum.index = df_peptide['freq']\n",
    "weighted_rowSum = (dfSum * dfSum.index.values.reshape(-1, 1) * dfSum.columns.values).sum(axis=1)\n",
    "\n",
    "weighted_rowSum.index = (df_peptide['pos'] +1)\n",
    "weighted_rowSum = weighted_rowSum.groupby(weighted_rowSum.index).sum()"
   ]
  },
  {
   "cell_type": "code",
   "execution_count": 25,
   "metadata": {},
   "outputs": [],
   "source": [
    "#extract for each peptide the position with the highest Shannon entropy and highest binding affinity\n",
    "\n",
    "maxEntropyList = []\n",
    "maxBindingAffinityList = []\n",
    "\n",
    "for i in range(len(weighted_rowSum)):\n",
    "    start = i\n",
    "    end = start +9\n",
    "    df_help = df_Shannon[df_Shannon['pos'].isin(np.arange(start, end))]\n",
    "    maxEntValue = df_help['Shannon'].max()\n",
    "    bindingMax = df_bindingAffinity.loc[df_bindingAffinity['seq_position'].isin(df_help[df_help['Shannon'] == maxEntValue]['pos'].values)]['value'].max()\n",
    "    maxBindingAffinityList.append(bindingMax)\n",
    "    maxEntropyList.append(maxEntValue)\n",
    "\n",
    "dfMaxEntropy = pd.DataFrame({'pos': np.arange(1, 1266), 'EntropyMax':  maxEntropyList, 'maxBinding': maxBindingAffinityList})"
   ]
  },
  {
   "cell_type": "code",
   "execution_count": 26,
   "metadata": {},
   "outputs": [],
   "source": [
    "#define Y,X, train and test data\n",
    "Y = dfMaxEntropy['EntropyMax'].values\n",
    "X = np.column_stack((weighted_rowSum.values, dfMaxEntropy['maxBinding'].values))\n",
    "\n",
    "X_train, X_test, y_train, y_test = train_test_split(X, Y, test_size=0.2, random_state=59)"
   ]
  },
  {
   "cell_type": "code",
   "execution_count": 27,
   "metadata": {},
   "outputs": [],
   "source": [
    "#random forest simulations\n",
    "seed = 42\n",
    "trees = np.arange(1, 1000, 1)\n",
    "rf_result = []\n",
    "rf_results = {}\n",
    "for n_estimator in trees:\n",
    "    rf_model = RandomForestRegressor(n_estimators=n_estimator, random_state=seed)\n",
    "    rf_model.fit(X_train, y_train)\n",
    "    rf_y_pred = rf_model.predict(X_test)\n",
    "    mse = metrics.mean_squared_error(y_test, rf_y_pred)\n",
    "    rf_results[n_estimator] = mse"
   ]
  },
  {
   "cell_type": "code",
   "execution_count": 28,
   "metadata": {},
   "outputs": [
    {
     "data": {
      "text/plain": [
       "RandomForestRegressor(n_estimators=10, random_state=42)"
      ]
     },
     "execution_count": 28,
     "metadata": {},
     "output_type": "execute_result"
    }
   ],
   "source": [
    "# predict on number of estimators with the lowest test mean squared error\n",
    "min_key = min(rf_results, key=rf_results.get)\n",
    "n_estimator = 10\n",
    "rf_model = RandomForestRegressor(n_estimators=n_estimator, random_state=seed)\n",
    "rf_model.fit(X_train, y_train)"
   ]
  },
  {
   "cell_type": "code",
   "execution_count": 29,
   "metadata": {},
   "outputs": [
    {
     "data": {
      "text/plain": [
       "Text(0, 0.5, 'KL divergence predicted')"
      ]
     },
     "execution_count": 29,
     "metadata": {},
     "output_type": "execute_result"
    },
    {
     "data": {
      "image/png": "[encoded data removed]",
      "text/plain": [
       "<Figure size 432x288 with 1 Axes>"
      ]
     },
     "metadata": {
      "needs_background": "light"
     },
     "output_type": "display_data"
    }
   ],
   "source": [
    "#accuracy training\n",
    "rf_y_pred = rf_model.predict(X_train)\n",
    "plt.scatter(y_train, rf_y_pred, color='blue', marker='o')\n",
    "plt.axis('equal')\n",
    "plt.xlabel('KL divergence calculated')\n",
    "plt.ylabel('KL divergence predicted')"
   ]
  },
  {
   "cell_type": "code",
   "execution_count": 30,
   "metadata": {},
   "outputs": [
    {
     "data": {
      "text/plain": [
       "Text(0, 0.5, 'KL divergence predicted')"
      ]
     },
     "execution_count": 30,
     "metadata": {},
     "output_type": "execute_result"
    },
    {
     "data": {
      "image/png": "[encoded data removed]",
      "text/plain": [
       "<Figure size 432x288 with 1 Axes>"
      ]
     },
     "metadata": {
      "needs_background": "light"
     },
     "output_type": "display_data"
    }
   ],
   "source": [
    "#accuracy test data\n",
    "rf_y_pred = rf_model.predict(X_test)\n",
    "plt.scatter(y_test, rf_y_pred, color='blue', marker='o')\n",
    "plt.axis('equal')\n",
    "plt.xlabel('KL divergence calculated')\n",
    "plt.ylabel('KL divergence predicted')"
   ]
  },
  {
   "cell_type": "code",
   "execution_count": 31,
   "metadata": {},
   "outputs": [
    {
     "name": "stdout",
     "output_type": "stream",
     "text": [
      "Correlation Coefficient of test data between prediction and calculated Shannon entropy: -0.05761788119456317\n"
     ]
    }
   ],
   "source": [
    "correlation_coefficient = np.corrcoef(y_test, rf_y_pred)[0, 1]\n",
    "print(\"Correlation Coefficient of test data between prediction and calculated Shannon entropy:\", correlation_coefficient)"
   ]
  },
  {
   "cell_type": "markdown",
   "metadata": {},
   "source": [
    "Handling imbalanced dataset"
   ]
  },
  {
   "cell_type": "code",
   "execution_count": 89,
   "metadata": {},
   "outputs": [],
   "source": [
    "#shannonZero = dfMaxEntropy.loc[dfMaxEntropy['EntropyMax'] <= 0.04004863]\n",
    "#shannonNonZero = dfMaxEntropy.loc[dfMaxEntropy['EntropyMax'] > 0.04004863]\n",
    "shannonZero = dfMaxEntropy.loc[dfMaxEntropy['EntropyMax'] == 0]\n",
    "shannonNonZero = dfMaxEntropy.loc[dfMaxEntropy['EntropyMax'] > 0]"
   ]
  },
  {
   "cell_type": "code",
   "execution_count": 90,
   "metadata": {},
   "outputs": [],
   "source": [
    "#use 80% of non-zero values and the same amount of zero values to train regression model\n",
    "\n",
    "randomNonZero = np.random.choice(shannonNonZero['pos'].values, int(len(shannonNonZero)*0.8), replace=False)\n",
    "shannonNonZeroRandom = shannonNonZero.loc[shannonNonZero['pos'].isin(randomNonZero)]\n",
    "weighted_rowSum_NonZeroRandom = weighted_rowSum[weighted_rowSum.index.isin(randomNonZero)]\n",
    "\n",
    "randomZeroShannon = np.random.choice(shannonZero['pos'].values, int(len(shannonNonZero)*0.8), replace=False)\n",
    "shannonZeroRandom = shannonZero.loc[shannonZero['pos'].isin(randomZeroShannon)]\n",
    "weighted_rowSum_ZeroRandom = weighted_rowSum[weighted_rowSum.index.isin(randomZeroShannon)]"
   ]
  },
  {
   "cell_type": "code",
   "execution_count": 91,
   "metadata": {},
   "outputs": [],
   "source": [
    "#define train and test data\n",
    "\n",
    "Y_train = np.append(shannonNonZeroRandom['EntropyMax'].values, shannonZeroRandom['EntropyMax'].values)\n",
    "X_train = np.column_stack((np.append(weighted_rowSum_NonZeroRandom.values,weighted_rowSum_ZeroRandom.values) , \n",
    "                           np.append(shannonNonZeroRandom['maxBinding'].values, shannonZeroRandom['maxBinding'].values )))\n",
    "\n",
    "trainingPos = np.append(randomNonZero,randomZeroShannon)\n",
    "\n",
    "weighted_rowSum_test = weighted_rowSum[~weighted_rowSum.index.isin(trainingPos)]\n",
    "shannonTest = dfMaxEntropy.loc[~dfMaxEntropy['pos'].isin(trainingPos)]\n",
    "\n",
    "\n",
    "Y_test = shannonTest['EntropyMax'].values\n",
    "X_test = np.column_stack((weighted_rowSum_test.values , shannonTest['maxBinding'].values))"
   ]
  },
  {
   "cell_type": "code",
   "execution_count": 92,
   "metadata": {},
   "outputs": [],
   "source": [
    "#random forest regression\n",
    "seed = 42\n",
    "trees = np.arange(1, 1000, 10)\n",
    "rf_result = []\n",
    "rf_results = {}\n",
    "for n_estimator in trees:\n",
    "    rf_model = RandomForestRegressor(n_estimators=n_estimator, random_state=seed)\n",
    "    rf_model.fit(X_train, Y_train)\n",
    "    rf_y_pred = rf_model.predict(X_test)\n",
    "    mse = metrics.mean_squared_error(Y_test, rf_y_pred)\n",
    "    rf_results[n_estimator] = mse"
   ]
  },
  {
   "cell_type": "code",
   "execution_count": 93,
   "metadata": {},
   "outputs": [
    {
     "data": {
      "text/plain": [
       "RandomForestRegressor(n_estimators=571, random_state=42)"
      ]
     },
     "execution_count": 93,
     "metadata": {},
     "output_type": "execute_result"
    }
   ],
   "source": [
    "# predict on number of estimators with the lowest test mean squared error\n",
    "min_key = min(rf_results, key=rf_results.get)\n",
    "n_estimator = min_key \n",
    "rf_model = RandomForestRegressor(n_estimators=n_estimator, random_state=seed)\n",
    "rf_model.fit(X_train, Y_train)"
   ]
  },
  {
   "cell_type": "code",
   "execution_count": 94,
   "metadata": {},
   "outputs": [
    {
     "data": {
      "text/plain": [
       "Text(0, 0.5, 'KL divergence predicted')"
      ]
     },
     "execution_count": 94,
     "metadata": {},
     "output_type": "execute_result"
    },
    {
     "data": {
      "image/png": "[encoded data removed]",
      "text/plain": [
       "<Figure size 432x288 with 1 Axes>"
      ]
     },
     "metadata": {
      "needs_background": "light"
     },
     "output_type": "display_data"
    }
   ],
   "source": [
    "#accuracy training\n",
    "rf_y_pred = rf_model.predict(X_train)\n",
    "plt.scatter(Y_train, rf_y_pred, color='blue', marker='o')\n",
    "plt.axis('equal')\n",
    "plt.xlabel('KL divergence calculated')\n",
    "plt.ylabel('KL divergence predicted')"
   ]
  },
  {
   "cell_type": "code",
   "execution_count": 95,
   "metadata": {},
   "outputs": [
    {
     "data": {
      "text/plain": [
       "Text(0, 0.5, 'KL divergence predicted')"
      ]
     },
     "execution_count": 95,
     "metadata": {},
     "output_type": "execute_result"
    },
    {
     "data": {
      "image/png": "[encoded data removed]",
      "text/plain": [
       "<Figure size 432x288 with 1 Axes>"
      ]
     },
     "metadata": {
      "needs_background": "light"
     },
     "output_type": "display_data"
    }
   ],
   "source": [
    "#test accuracy\n",
    "rf_y_pred = rf_model.predict(X_test)\n",
    "plt.scatter(Y_test, rf_y_pred, color='blue', marker='o')\n",
    "plt.axis('equal')\n",
    "plt.xlabel('KL divergence calculated')\n",
    "plt.ylabel('KL divergence predicted')"
   ]
  },
  {
   "cell_type": "code",
   "execution_count": 96,
   "metadata": {},
   "outputs": [
    {
     "name": "stdout",
     "output_type": "stream",
     "text": [
      "Correlation Coefficient of test data between prediction and calculated Shannon entropy: -0.0012637539520523333\n"
     ]
    }
   ],
   "source": [
    "correlation_coefficient = np.corrcoef(Y_test, rf_y_pred)[0, 1]\n",
    "print(\"Correlation Coefficient of test data between prediction and calculated Shannon entropy:\", correlation_coefficient)"
   ]
  },
  {
   "cell_type": "code",
   "execution_count": 51,
   "metadata": {},
   "outputs": [
    {
     "data": {
      "text/plain": [
       "291"
      ]
     },
     "execution_count": 51,
     "metadata": {},
     "output_type": "execute_result"
    }
   ],
   "source": [
    "min_key"
   ]
  },
  {
   "cell_type": "code",
   "execution_count": null,
   "metadata": {},
   "outputs": [],
   "source": []
  }
 ],
 "metadata": {
  "kernelspec": {
   "display_name": "Python 3",
   "language": "python",
   "name": "python3"
  },
  "language_info": {
   "codemirror_mode": {
    "name": "ipython",
    "version": 3
   },
   "file_extension": ".py",
   "mimetype": "text/x-python",
   "name": "python",
   "nbconvert_exporter": "python",
   "pygments_lexer": "ipython3",
   "version": "3.8.0"
  }
 },
 "nbformat": 4,
 "nbformat_minor": 2
}
