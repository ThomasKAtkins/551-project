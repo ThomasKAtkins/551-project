{
 "cells": [
  {
   "cell_type": "markdown",
   "metadata": {},
   "source": [
    "Code by Jonas"
   ]
  },
  {
   "cell_type": "code",
   "execution_count": 12,
   "metadata": {},
   "outputs": [],
   "source": [
    "import numpy as np\n",
    "import pandas as pd\n",
    "from sklearn import metrics\n",
    "from sklearn.linear_model import LinearRegression\n",
    "from sklearn.preprocessing import StandardScaler\n",
    "import random\n",
    "import matplotlib.pyplot as plt\n",
    "import os"
   ]
  },
  {
   "cell_type": "code",
   "execution_count": 2,
   "metadata": {},
   "outputs": [],
   "source": [
    "#read in the data\n",
    "path_bindingAffinity = '/Users/jones/coding/Princeton_Homework/QCB455_Comp/project/551-project-main/data/binding_affinity/binding_info.csv'\n",
    "df_bindingAffinity = pd.read_csv(path_bindingAffinity)\n",
    "\n",
    "pathShannon = '/Users/jones/coding/Princeton_Homework/QCB455_Comp/project/551-project-main/data/entropy/manual/Shannon.csv'\n",
    "df_Shannon = pd.read_csv(pathShannon)\n",
    "pathAllel = '/Users/jones/coding/Princeton_Homework/QCB455_Comp/project/551-project-main/data/NetMHCpan/alleles.csv'\n",
    "df_allel = pd.read_csv(pathAllel)\n",
    "\n",
    "pathPeptide = '/Users/jones/coding/Princeton_Homework/QCB455_Comp/project/551-project-main/data/NetMHCpan/peptides.csv'\n",
    "df_peptide = pd.read_csv(pathPeptide)\n",
    "\n",
    "pathrank = '/Users/jones/coding/Princeton_Homework/QCB455_Comp/project/551-project-main/data/NetMHCpan/rank_EL_matrix.csv'\n",
    "df_rank = pd.read_csv(pathrank, header=None)\n",
    "df_rank.columns = df_allel['allele'].values\n",
    "\n",
    "df_rank.index = df_peptide['peptide'].values\n",
    "\n",
    "pathscore = '/Users/jones/coding/Princeton_Homework/QCB455_Comp/project/551-project-main/data/NetMHCpan/score_EL_matrix.csv'\n",
    "df_score = pd.read_csv(pathscore, header=None)\n",
    "df_score.columns = df_allel['allele'].values\n",
    "df_score.index = df_peptide['peptide'].values\n",
    "\n",
    "pathKl = '/Users/jones/coding/Princeton_Homework/QCB455_Comp/project/551-project-main/data/entropy/HIV_db/before_filtering/Entropy_One/entropy.csv'\n",
    "df_Kl = pd.read_csv(pathKl)\n",
    "\n",
    "pathKlFilt = '/Users/jones/coding/Princeton_Homework/QCB455_Comp/project/551-project-main/data/entropy/HIV_db/after_filtering/Entropy-One/entropy.csv'\n",
    "df_KlFilt = pd.read_csv(pathKlFilt)\n",
    "\n",
    "\n",
    "savePath = \"/Users/jones/coding/Princeton_Homework/QCB455_Comp/project/551-project-main/data/linearRegression\""
   ]
  },
  {
   "cell_type": "code",
   "execution_count": 3,
   "metadata": {},
   "outputs": [],
   "source": [
    "#flip the rank matrix -> higher MHC binding between peptide and allele leads to higher score\n",
    "dfAnalysis = df_rank.copy()\n",
    "maxVal= dfAnalysis.max().max()\n",
    "minVal = dfAnalysis.min().min()\n",
    "dfAnalysisNew = maxVal + minVal - dfAnalysis\n"
   ]
  },
  {
   "cell_type": "code",
   "execution_count": 4,
   "metadata": {},
   "outputs": [],
   "source": [
    "#calculate the weighted sum \n",
    "#using maximum of the allele frequency\n",
    "allelScore = df_allel.iloc[:, -6:-1].max(axis=1)\n",
    "dfSum = dfAnalysisNew\n",
    "dfSum.columns = allelScore\n",
    "dfSum.index = df_peptide['freq']\n",
    "weighted_rowSum = (dfSum * dfSum.index.values.reshape(-1, 1) * dfSum.columns.values).sum(axis=1)\n",
    "\n",
    "weighted_rowSum.index = (df_peptide['pos'] +1)\n",
    "weighted_rowSum = weighted_rowSum.groupby(weighted_rowSum.index).sum()"
   ]
  },
  {
   "cell_type": "code",
   "execution_count": 6,
   "metadata": {},
   "outputs": [],
   "source": [
    "# rename KL divergence df to match column name in Shannon entropy df\n",
    "df_Kl.rename(columns={'Position': 'pos'}, inplace=True)\n"
   ]
  },
  {
   "cell_type": "code",
   "execution_count": 7,
   "metadata": {},
   "outputs": [],
   "source": [
    "#extract for each peptide the position with the highest Shannon entropy and highest binding affinity\n",
    "\n",
    "maxEntropyList = []\n",
    "maxBindingAffinityList = []\n",
    "\n",
    "\n",
    "\n",
    "for i in range(len(weighted_rowSum)):\n",
    "    start = i\n",
    "    end = start +9\n",
    "    df_help = df_Kl[df_Kl['pos'].isin(np.arange(start, end))]\n",
    "    maxEntValue = df_help['Entropy'].max()\n",
    "    bindingMax = df_bindingAffinity.loc[df_bindingAffinity['seq_position'].isin(df_help[df_help['Entropy'] == maxEntValue]['pos'].values)]['value'].max()\n",
    "    maxBindingAffinityList.append(bindingMax)\n",
    "    maxEntropyList.append(maxEntValue)\n",
    "\n",
    "dfMaxEntropy = pd.DataFrame({'pos': np.arange(1, 1266), 'EntropyMax':  maxEntropyList, 'maxBinding': maxBindingAffinityList})"
   ]
  },
  {
   "cell_type": "code",
   "execution_count": 8,
   "metadata": {},
   "outputs": [],
   "source": [
    "#Create X & Y variables for linear regression\n",
    "\n",
    "Y = dfMaxEntropy['EntropyMax'].values\n",
    "X = np.column_stack((weighted_rowSum.values, dfMaxEntropy['maxBinding'].values))"
   ]
  },
  {
   "cell_type": "code",
   "execution_count": 9,
   "metadata": {},
   "outputs": [
    {
     "data": {
      "text/plain": [
       "Text(0, 0.5, 'KL divergence')"
      ]
     },
     "execution_count": 9,
     "metadata": {},
     "output_type": "execute_result"
    },
    {
     "data": {
      "image/png": "[encoded data removed]",
      "text/plain": [
       "<Figure size 432x288 with 1 Axes>"
      ]
     },
     "metadata": {
      "needs_background": "light"
     },
     "output_type": "display_data"
    }
   ],
   "source": [
    "#visualizing input and output data\n",
    "\n",
    "plt.scatter(weighted_rowSum.values, Y, color='blue', marker='o')\n",
    "plt.xlabel('MHC_binding_affinity')\n",
    "plt.ylabel('KL divergence')"
   ]
  },
  {
   "cell_type": "code",
   "execution_count": 13,
   "metadata": {},
   "outputs": [],
   "source": [
    "#fit linear model\n",
    "model = LinearRegression()\n",
    "model.fit(X, Y)\n",
    "\n",
    "# predict model\n",
    "\n",
    "y_pred = model.predict(X)\n",
    "all = pd.DataFrame({'test': Y, 'pred': y_pred})"
   ]
  },
  {
   "cell_type": "code",
   "execution_count": 14,
   "metadata": {},
   "outputs": [
    {
     "name": "stdout",
     "output_type": "stream",
     "text": [
      "Correlation Coefficient: 0.07961877256164164\n"
     ]
    }
   ],
   "source": [
    "correlation_coefficient = np.corrcoef(Y, y_pred)[0, 1]\n",
    "\n",
    "print(\"Correlation Coefficient:\", correlation_coefficient)"
   ]
  },
  {
   "cell_type": "code",
   "execution_count": 15,
   "metadata": {},
   "outputs": [
    {
     "data": {
      "text/plain": [
       "Text(0, 0.5, 'KL divergence predicted')"
      ]
     },
     "execution_count": 15,
     "metadata": {},
     "output_type": "execute_result"
    },
    {
     "data": {
      "image/png": "[encoded data removed]",
      "text/plain": [
       "<Figure size 432x288 with 1 Axes>"
      ]
     },
     "metadata": {
      "needs_background": "light"
     },
     "output_type": "display_data"
    }
   ],
   "source": [
    "plt.scatter(Y, y_pred, color='blue', marker='o')\n",
    "plt.axis('equal')\n",
    "plt.xlabel('KL divergence calculated')\n",
    "plt.ylabel('KL divergence predicted')"
   ]
  },
  {
   "cell_type": "code",
   "execution_count": null,
   "metadata": {},
   "outputs": [],
   "source": []
  },
  {
   "cell_type": "markdown",
   "metadata": {},
   "source": [
    "Shannon entropy"
   ]
  },
  {
   "cell_type": "code",
   "execution_count": 16,
   "metadata": {},
   "outputs": [],
   "source": [
    "#extract highest entropy of each peptide\n",
    "\n",
    "maxEntropyList = []\n",
    "maxBindingAffinityList = []\n",
    "\n",
    "for i in range(len(weighted_rowSum)):\n",
    "    start = i\n",
    "    end = start +9\n",
    "    df_help = df_Shannon[df_Shannon['pos'].isin(np.arange(start, end))]\n",
    "    maxEntValue = df_help['Shannon'].max()\n",
    "    bindingMax = df_bindingAffinity.loc[df_bindingAffinity['seq_position'].isin(df_help[df_help['Shannon'] == maxEntValue]['pos'].values)]['value'].max()\n",
    "    maxBindingAffinityList.append(bindingMax)\n",
    "    maxEntropyList.append(maxEntValue)\n",
    "\n",
    "dfMaxEntropy = pd.DataFrame({'pos': np.arange(1, 1266), 'EntropyMax':  maxEntropyList, 'maxBinding': maxBindingAffinityList})"
   ]
  },
  {
   "cell_type": "code",
   "execution_count": 19,
   "metadata": {},
   "outputs": [],
   "source": [
    "#define X and Y for linear model\n",
    "Y= dfMaxEntropy['EntropyMax'].values\n",
    "X = np.column_stack((weighted_rowSum.values, dfMaxEntropy['maxBinding'].values))"
   ]
  },
  {
   "cell_type": "code",
   "execution_count": 20,
   "metadata": {},
   "outputs": [
    {
     "data": {
      "text/plain": [
       "Text(0, 0.5, 'Shannon entropy')"
      ]
     },
     "execution_count": 20,
     "metadata": {},
     "output_type": "execute_result"
    },
    {
     "data": {
      "image/png": "[encoded data removed]",
      "text/plain": [
       "<Figure size 432x288 with 1 Axes>"
      ]
     },
     "metadata": {
      "needs_background": "light"
     },
     "output_type": "display_data"
    }
   ],
   "source": [
    "plt.scatter(weighted_rowSum.values, Y, color='blue', marker='o')\n",
    "plt.xlabel('MHC_binding_affinity')\n",
    "plt.ylabel('Shannon entropy')"
   ]
  },
  {
   "cell_type": "code",
   "execution_count": 21,
   "metadata": {},
   "outputs": [
    {
     "name": "stdout",
     "output_type": "stream",
     "text": [
      "Correlation Coefficient: 0.034078668002613485\n"
     ]
    }
   ],
   "source": [
    "#fit a linear model\n",
    "model = LinearRegression()\n",
    "model.fit(X, Y)\n",
    "y_pred = model.predict(X)\n",
    "all = pd.DataFrame({'test': Y, 'pred': y_pred})\n",
    "correlation_coefficient = np.corrcoef(Y, y_pred)[0, 1]\n",
    "\n",
    "print(\"Correlation Coefficient:\", correlation_coefficient)"
   ]
  },
  {
   "cell_type": "code",
   "execution_count": 22,
   "metadata": {},
   "outputs": [
    {
     "data": {
      "text/plain": [
       "Text(0, 0.5, 'Shannon predicted')"
      ]
     },
     "execution_count": 22,
     "metadata": {},
     "output_type": "execute_result"
    },
    {
     "data": {
      "image/png": "[encoded data removed]",
      "text/plain": [
       "<Figure size 432x288 with 1 Axes>"
      ]
     },
     "metadata": {
      "needs_background": "light"
     },
     "output_type": "display_data"
    }
   ],
   "source": [
    "plt.scatter(Y, y_pred, color='blue', marker='o')\n",
    "plt.axis('equal')\n",
    "plt.xlabel('Shannon entropy calculated')\n",
    "plt.ylabel('Shannon predicted')"
   ]
  },
  {
   "cell_type": "code",
   "execution_count": null,
   "metadata": {},
   "outputs": [],
   "source": []
  },
  {
   "cell_type": "markdown",
   "metadata": {},
   "source": [
    "Handling imbalanced Shanon entropy"
   ]
  },
  {
   "cell_type": "code",
   "execution_count": 23,
   "metadata": {},
   "outputs": [
    {
     "data": {
      "text/plain": [
       "(array([0.        , 0.04004863, 0.04027237, 0.07081055, 0.08005252,\n",
       "        0.09803911, 0.1107694 , 0.122957  , 0.22830987, 0.38000069]),\n",
       " array([731, 415,  13,  28,  40,   9,   2,   9,   9,   9]))"
      ]
     },
     "execution_count": 23,
     "metadata": {},
     "output_type": "execute_result"
    }
   ],
   "source": [
    "np.unique(dfMaxEntropy['EntropyMax'], return_counts=True)"
   ]
  },
  {
   "cell_type": "code",
   "execution_count": 25,
   "metadata": {},
   "outputs": [],
   "source": [
    "#split data into zero and nonzero shannon entropy\n",
    "\n",
    "shannonZero = dfMaxEntropy.loc[dfMaxEntropy['EntropyMax'] <= 0.04004863]\n",
    "shannonNonZero = dfMaxEntropy.loc[dfMaxEntropy['EntropyMax'] > 0.04004863]"
   ]
  },
  {
   "cell_type": "code",
   "execution_count": 27,
   "metadata": {},
   "outputs": [],
   "source": [
    "#Using all non-zero positions for training\n",
    "\n",
    "nonZeroPositions = shannonNonZero['pos'].values\n",
    "weighted_rowSum_NonZero = weighted_rowSum[weighted_rowSum.index.isin(nonZeroPositions)]\n",
    "\n",
    "#select a random subset of zero shannon entropy values of length non-zerp values\n",
    "randomZeroShannon = np.random.choice(shannonZero['pos'].values, len(shannonNonZero), replace=False)\n",
    "shannonZeroRandom = shannonZero.loc[shannonZero['pos'].isin(randomZeroShannon)]\n",
    "weighted_rowSum_ZeroRandom = weighted_rowSum[weighted_rowSum.index.isin(randomZeroShannon)]"
   ]
  },
  {
   "cell_type": "code",
   "execution_count": 28,
   "metadata": {},
   "outputs": [
    {
     "name": "stdout",
     "output_type": "stream",
     "text": [
      "Correlation Coefficient: -0.03380860078166926\n"
     ]
    }
   ],
   "source": [
    "#define train dataset and predict on full dataset\n",
    "\n",
    "Y_train = np.append(shannonNonZero['EntropyMax'].values, shannonZeroRandom['EntropyMax'].values)\n",
    "X = np.column_stack((weighted_rowSum.values, dfMaxEntropy['maxBinding'].values))\n",
    "Y = dfMaxEntropy['EntropyMax'].values\n",
    "X_train = np.column_stack((np.append(weighted_rowSum_NonZero.values,weighted_rowSum_ZeroRandom.values) , \n",
    "                           np.append(shannonNonZero['maxBinding'].values, shannonZeroRandom['maxBinding'].values )))\n",
    "model = LinearRegression()\n",
    "model.fit(X_train, Y_train)\n",
    "y_pred = model.predict(X)\n",
    "all = pd.DataFrame({'test': Y, 'pred': y_pred})\n",
    "correlation_coefficient = np.corrcoef(Y, y_pred)[0, 1]\n",
    "\n",
    "print(\"Correlation Coefficient:\", correlation_coefficient)"
   ]
  },
  {
   "cell_type": "code",
   "execution_count": 29,
   "metadata": {},
   "outputs": [
    {
     "data": {
      "text/plain": [
       "Text(0, 0.5, 'Shannon predicted')"
      ]
     },
     "execution_count": 29,
     "metadata": {},
     "output_type": "execute_result"
    },
    {
     "data": {
      "image/png": "[encoded data removed]",
      "text/plain": [
       "<Figure size 432x288 with 1 Axes>"
      ]
     },
     "metadata": {
      "needs_background": "light"
     },
     "output_type": "display_data"
    }
   ],
   "source": [
    "plt.scatter(Y, y_pred, color='blue', marker='o')\n",
    "plt.axis('equal')\n",
    "plt.xlabel('Shannon entropy calculated')\n",
    "plt.ylabel('Shannon predicted')"
   ]
  },
  {
   "cell_type": "code",
   "execution_count": null,
   "metadata": {},
   "outputs": [],
   "source": []
  }
 ],
 "metadata": {
  "kernelspec": {
   "display_name": "Python 3",
   "language": "python",
   "name": "python3"
  },
  "language_info": {
   "codemirror_mode": {
    "name": "ipython",
    "version": 3
   },
   "file_extension": ".py",
   "mimetype": "text/x-python",
   "name": "python",
   "nbconvert_exporter": "python",
   "pygments_lexer": "ipython3",
   "version": "3.8.0"
  }
 },
 "nbformat": 4,
 "nbformat_minor": 2
}
